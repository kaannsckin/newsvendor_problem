{
 "cells": [
  {
   "cell_type": "markdown",
   "metadata": {},
   "source": [
    "# Parameters\n",
    "\n"
   ]
  },
  {
   "cell_type": "code",
   "execution_count": 30,
   "metadata": {},
   "outputs": [],
   "source": [
    "# Given parameters\n",
    "mu = 1450  # mean yearly demand\n",
    "sigma = 800  # standard deviation of yearly demand\n",
    "r = 10000  # price per unit (TL/unit)\n",
    "c = 3000  # unit cost (TL/unit)\n",
    "p = 6000  # shortage penalty (TL/unit)\n",
    "g = 0  # salvage value"
   ]
  },
  {
   "cell_type": "markdown",
   "metadata": {},
   "source": [
    "# Answer for Quesiton 1\n"
   ]
  },
  {
   "cell_type": "code",
   "execution_count": 34,
   "metadata": {},
   "outputs": [
    {
     "name": "stdout",
     "output_type": "stream",
     "text": [
      "Expected demand: 1367.7977964275574\n",
      "Expected demand: 1368\n",
      "Centrally optimal quantity (Q^*): 2160\n",
      "Expected profit: 6704764.74 TL\n"
     ]
    }
   ],
   "source": [
    "import scipy.stats as stats\n",
    "# Centrally optimal quantity (Z obtained from the table)\n",
    "Z = 0.887\n",
    "Q_central = mu + sigma * Z\n",
    "\n",
    "# Round Q* to the nearest integer\n",
    "Q_central_int = round(Q_central)\n",
    "\n",
    "# Expected sales calculation\n",
    "def expected_sales_central(Q):\n",
    "    normal_cdf = stats.norm.cdf((Q - mu) / sigma)\n",
    "    normal_pdf = stats.norm.pdf((Q - mu) / sigma)\n",
    "    return Q * (1 - normal_cdf) + mu * normal_cdf - sigma * normal_pdf\n",
    "\n",
    "# Calculate expected sales at centrally optimal quantity\n",
    "S_Q_central_int = expected_sales_central(Q_central_int)\n",
    "\n",
    "# Calculate centrally optimal expected profit\n",
    "profit_central_int = (r - g + p) * S_Q_central_int - p * mu - c * Q_central_int\n",
    "\n",
    "# Results\n",
    "print(f\"Expected demand: {S_Q_central_int}\")\n",
    "print(f\"Expected demand: {round(S_Q_central_int)}\")\n",
    "print(f\"Centrally optimal quantity (Q^*): {Q_central_int}\")\n",
    "print(f\"Expected profit: {profit_central_int:.2f} TL\")\n"
   ]
  },
  {
   "cell_type": "markdown",
   "metadata": {},
   "source": [
    "# Answer for Quesiton 2\n"
   ]
  },
  {
   "cell_type": "code",
   "execution_count": 32,
   "metadata": {},
   "outputs": [
    {
     "name": "stdout",
     "output_type": "stream",
     "text": [
      "Optimal Order Quantity (Q^w): 1128 units\n",
      "Retailer's Expected Profit: 206394.55 TL\n",
      "Supplier's Expected Profit: 2820499.87 TL\n"
     ]
    }
   ],
   "source": [
    "w = 5500  # wholesale price (TL/unit)\n",
    "\n",
    "# Calculate F(Q^w)\n",
    "F_Qw = (r - w + p) / (r - g + p) \n",
    "\n",
    "# Find Z value from F(Q^w)\n",
    "Z_corrected = stats.norm.ppf(1 - F_Qw)\n",
    "\n",
    "# Calculate the optimal order quantity Q^w\n",
    "Qw_corrected = mu + sigma * Z_corrected\n",
    "\n",
    "# Expected sales calculation\n",
    "def expected_sales(Q):\n",
    "    normal_cdf = stats.norm.cdf((Q - mu) / sigma)\n",
    "    normal_pdf = stats.norm.pdf((Q - mu) / sigma)\n",
    "    return Q * (1 - normal_cdf) + mu * normal_cdf - sigma * normal_pdf\n",
    "# Calculate expected sales at optimal order quantity\n",
    "S_Qw_corrected = expected_sales(Qw_corrected)\n",
    "\n",
    "# Calculate retailer's expected profit\n",
    "profit_retailer_corrected = (r + p) * S_Qw_corrected - p * mu - w * Qw_corrected\n",
    "\n",
    "# Calculate supplier's expected profit\n",
    "profit_supplier_corrected = w * Qw_corrected - c * Qw_corrected\n",
    "\n",
    "# Results\n",
    "print(f\"Optimal Order Quantity (Q^w): {round(Qw_corrected)} units\")\n",
    "print(f\"Retailer's Expected Profit: {profit_retailer_corrected:.2f} TL\")\n",
    "print(f\"Supplier's Expected Profit: {profit_supplier_corrected:.2f} TL\")"
   ]
  },
  {
   "cell_type": "code",
   "execution_count": 33,
   "metadata": {},
   "outputs": [
    {
     "name": "stdout",
     "output_type": "stream",
     "text": [
      "Optimal Order Quantity (Q^b): 1926 units\n",
      "Retailer's Expected Profit: 2648441.32 TL\n",
      "Supplier's Expected Profit: 3897144.13 TL\n"
     ]
    }
   ],
   "source": [
    "# Buy-back price\n",
    "b = 1500\n",
    "\n",
    "# Calculate F(Q^b)\n",
    "F_Qb = (r - w + p) / (r - b + p)\n",
    "\n",
    "# Find Z value for F(Q^b)\n",
    "Z_b = stats.norm.ppf(F_Qb)\n",
    "\n",
    "# Calculate optimal order quantity Q^b\n",
    "Qb = mu + sigma * Z_b\n",
    "\n",
    "# Calculate expected sales at Q^b\n",
    "S_Qb = expected_sales(Qb)\n",
    "\n",
    "# Calculate retailer's expected profit\n",
    "profit_retailer_b = (r - b + p) * S_Qb + b * Qb - p * mu - w * Qb\n",
    "\n",
    "# Calculate supplier's expected profit\n",
    "profit_supplier_b = b * S_Qb + (w - b) * Qb - c * Qb\n",
    "# Results\n",
    "print(f\"Optimal Order Quantity (Q^b): {round(Qb)} units\")\n",
    "print(f\"Retailer's Expected Profit: {profit_retailer_b:.2f} TL\")\n",
    "print(f\"Supplier's Expected Profit: {profit_supplier_b:.2f} TL\")\n"
   ]
  }
 ],
 "metadata": {
  "kernelspec": {
   "display_name": "base",
   "language": "python",
   "name": "python3"
  },
  "language_info": {
   "codemirror_mode": {
    "name": "ipython",
    "version": 3
   },
   "file_extension": ".py",
   "mimetype": "text/x-python",
   "name": "python",
   "nbconvert_exporter": "python",
   "pygments_lexer": "ipython3",
   "version": "3.9.7"
  }
 },
 "nbformat": 4,
 "nbformat_minor": 2
}
